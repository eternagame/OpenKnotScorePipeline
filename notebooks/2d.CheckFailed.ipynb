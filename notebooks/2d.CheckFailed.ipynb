{
 "cells": [
  {
   "cell_type": "code",
   "execution_count": 3,
   "metadata": {},
   "outputs": [],
   "source": [
    "import pandas\n",
    "import numpy\n",
    "import os\n",
    "import re\n",
    "\n",
    "job = 'OpenKnotScorePipeline-Old'\n",
    "dataDir = f'{os.environ[\"SCRATCH\"]}/{job}/data'"
   ]
  },
  {
   "cell_type": "code",
   "execution_count": 4,
   "metadata": {},
   "outputs": [
    {
     "name": "stdout",
     "output_type": "stream",
     "text": [
      "spotrna_PRED failed for some solutions in 1 batches (['002'])\n",
      "knotty_PRED failed for some solutions in 2 batches (['009', '013'])\n"
     ]
    }
   ],
   "source": [
    "failed_full = {}\n",
    "failed_partial = {}\n",
    "missing_full = {}\n",
    "missing_partial = {}\n",
    "\n",
    "for fname in sorted(os.listdir(dataDir)):\n",
    "    if not re.fullmatch(r'\\d+\\.pkl', fname): continue\n",
    "    df = pandas.read_pickle(f\"{dataDir}/{fname}\")\n",
    "    for col in df.columns:\n",
    "        if col.endswith('_PRED'):\n",
    "            if df[col].str.contains(r'^x+$', regex=True).all():\n",
    "                failed_full.setdefault(col, []).append(f'{fname.rstrip(\".pkl\")}')\n",
    "            elif df[col].str.contains(r'^x+$', regex=True).any():\n",
    "                failed_partial.setdefault(col, []).append(f'{fname.rstrip(\".pkl\")}')\n",
    "\n",
    "            if df[col].isna().all():\n",
    "                missing_full.setdefault(col, []).append(f'{fname.rstrip(\".pkl\")}')\n",
    "            elif df[col].isna().any():\n",
    "                missing_partial.setdefault(col, []).append(f'{fname.rstrip(\".pkl\")}')\n",
    "\n",
    "for k,v in failed_full.items():\n",
    "    print(f'{k} failed for all solutions in {len(v)} batches ({v})')\n",
    "for k,v in failed_partial.items():\n",
    "    print(f'{k} failed for some solutions in {len(v)} batches ({v})')"
   ]
  }
 ],
 "metadata": {
  "kernelspec": {
   "display_name": ".venv",
   "language": "python",
   "name": "python3"
  },
  "language_info": {
   "codemirror_mode": {
    "name": "ipython",
    "version": 3
   },
   "file_extension": ".py",
   "mimetype": "text/x-python",
   "name": "python",
   "nbconvert_exporter": "python",
   "pygments_lexer": "ipython3",
   "version": "3.12.1"
  }
 },
 "nbformat": 4,
 "nbformat_minor": 2
}
