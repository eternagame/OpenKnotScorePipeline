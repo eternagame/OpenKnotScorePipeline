{
 "cells": [
  {
   "cell_type": "markdown",
   "id": "e6e9c093",
   "metadata": {},
   "source": [
    "# Generate Dataframe from RDAT\n",
    "\n",
    "This notebook takes an input RDAT file with reactivity data for a given sequence library,\n",
    "and extracts the relevant data and stores it in a Dataframe."
   ]
  },
  {
   "cell_type": "code",
   "execution_count": null,
   "id": "c1a3501b-a96a-4529-9a29-8418c6868955",
   "metadata": {},
   "outputs": [],
   "source": [
    "import os\n",
    "import pandas as pd\n",
    "import rdat_kit\n",
    "\n",
    "# Trick to display dataframes with scrollbars\n",
    "from IPython.display import display, HTML\n",
    "display(HTML(\"<style>.jp-OutputArea-output {display:flex}</style>\"))"
   ]
  },
  {
   "cell_type": "code",
   "execution_count": null,
   "id": "9e7ec2e5-d281-488c-9d92-999de6fe7c99",
   "metadata": {},
   "outputs": [],
   "source": [
    "# Generate empty dataframe with columns that we will extract from the RDAT\n",
    "\n",
    "df = pd.DataFrame(columns=[\"id\",\"title\",\"author\",\"sequence\",\"reads\",\"signal_to_noise\",\"snr\",\"warning\",\"reactivity\",\"errors\"])\n",
    "\n",
    "for file in os.listdir('../data/rdats'):\n",
    "    if not file.endswith('.rdat'):\n",
    "        continue\n",
    "    rdat = rdat_kit.RDATFile()\n",
    "    rdat.load(open(f'../data/rdats/{file}', 'r'))\n",
    "\n",
    "    # Change your construct name to match your RDAT \n",
    "    constructName = 'DasLabBigLib_OneMil_OpenKnot_Round_2_test'\n",
    "    rdatSequences = rdat.constructs[constructName].data\n",
    "\n",
    "    seqList = []\n",
    "\n",
    "    # Loop through all sequences in the RDAT, extract relevant data, and add to the dataframe\n",
    "    for sequence in rdatSequences:\n",
    "        # Grab annotations\n",
    "        id = sequence.annotations.get('Eterna')[0].split(\":\")[1]\n",
    "        title = sequence.annotations.get('Eterna')[1].split(\":\")[1]\n",
    "        author = sequence.annotations.get('Eterna')[2].split(\":\")[1]\n",
    "        seq = sequence.annotations.get('sequence')[0]\n",
    "        reads = int(sequence.annotations.get('reads')[0])\n",
    "        signal_to_noise = sequence.annotations.get('signal_to_noise')[0]\n",
    "        snr = float(sequence.annotations.get('signal_to_noise')[0].split(\":\")[1])\n",
    "        warning = sequence.annotations.get('warning', '-')[0]\n",
    "\n",
    "        # Get reactivity data and errors\n",
    "        reactivity = sequence.values\n",
    "        errors = sequence.errors\n",
    "\n",
    "        # Create a dataframe from this row\n",
    "        row = pd.DataFrame(\n",
    "            data = [[id,seq,reads,signal_to_noise,snr,warning,reactivity,errors]],\n",
    "            columns=[\"id\",\"sequence\",\"reads\",\"signal_to_noise\",\"snr\",\"warning\",\"reactivity\",\"errors\"]\n",
    "        )\n",
    "\n",
    "        # Add the row to the whole dataframe\n",
    "        seqList.append(row)\n",
    "\n",
    "df = pd.concat(seqList, ignore_index=True)"
   ]
  },
  {
   "cell_type": "code",
   "execution_count": null,
   "id": "94537a77-c228-4989-9cac-dfc40b7982d4",
   "metadata": {},
   "outputs": [],
   "source": [
    "# Reset the index and sort by ID\n",
    "df.set_index('id', inplace=True)\n",
    "df.sort_values('id',ascending=False,inplace=True)\n",
    "\n",
    "# Persist the dataframe for loading in future steps\n",
    "# See the README for details about format choice\n",
    "\n",
    "# df.to_csv('../data/data_rdatOnly.csv')\n",
    "df.to_pickle('../data/data_rdatOnly.pkl')"
   ]
  },
  {
   "cell_type": "code",
   "execution_count": null,
   "id": "37b02c44-ec2e-42a2-867f-1cabd8380baa",
   "metadata": {
    "scrolled": true
   },
   "outputs": [],
   "source": [
    "# OPTIONAL\n",
    "# Some sequences will have poor data quality, indicated with a badQuality warning\n",
    "# To save compute, you may choose to filter out the low quality sequences\n",
    "\n",
    "goodQuality = df.loc[df['warning'] != 'badQuality']\n",
    "\n",
    "# goodQuality.to_csv('../data/data_highQuality.csv')\n",
    "goodQuality.to_pickle('../data/data_highQuality.pkl')"
   ]
  }
 ],
 "metadata": {
  "kernelspec": {
   "display_name": "Python 3 (ipykernel)",
   "language": "python",
   "name": "python3"
  },
  "language_info": {
   "codemirror_mode": {
    "name": "ipython",
    "version": 3
   },
   "file_extension": ".py",
   "mimetype": "text/x-python",
   "name": "python",
   "nbconvert_exporter": "python",
   "pygments_lexer": "ipython3",
   "version": "3.12.0"
  }
 },
 "nbformat": 4,
 "nbformat_minor": 5
}
