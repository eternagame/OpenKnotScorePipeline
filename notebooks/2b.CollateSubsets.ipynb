{
 "cells": [
  {
   "cell_type": "markdown",
   "metadata": {},
   "source": [
    "# Collate subset files into one dataframe\n",
    "\n",
    "If you generated the predictions on Sherlock using the batch array approach, you now have a folder full of pickle files with data and predictions. We need to collate those files into one dataframe for OpenKnotScore calculation."
   ]
  },
  {
   "cell_type": "code",
   "execution_count": null,
   "metadata": {},
   "outputs": [],
   "source": [
    "import pandas\n",
    "import numpy\n",
    "import os\n",
    "import re\n",
    "\n",
    "job = ''\n",
    "dataDir = f'{os.environ[\"SCRATCH\"]}/{job}/data'\n",
    "\n",
    "frames = []\n",
    "for fname in sorted(os.listdir(dataDir)):\n",
    "    if not re.fullmatch(r'\\d+\\.pkl', fname): continue\n",
    "    frames.append(pandas.read_pickle(f\"{dataDir}/{fname}\"))\n",
    "\n",
    "df = pandas.concat(frames)"
   ]
  },
  {
   "cell_type": "markdown",
   "metadata": {},
   "source": [
    "Some of the jobs may have failed or timed out, so you may be left with missing data. This cell lets you check the input files to see which ones have missing data and need to be re-run. "
   ]
  },
  {
   "cell_type": "code",
   "execution_count": null,
   "metadata": {},
   "outputs": [],
   "source": [
    "# Check for missing data in the full dataframe\n",
    "display(df[df.isna().any(axis=1)])\n",
    "\n",
    "# Check for missing data in each input file, so you can rerun failed jobs\n",
    "missing = []\n",
    "\n",
    "for (i,frame) in enumerate(frames):\n",
    "  if len(frame[frame.isna().any(axis=1)]):\n",
    "    missing.append(i)\n",
    "\n",
    "sorted_missing = sorted(list(set(missing)))\n",
    "\n",
    "print(sorted_missing)"
   ]
  },
  {
   "cell_type": "markdown",
   "metadata": {},
   "source": [
    "If you have no missing data, save the dataframe."
   ]
  },
  {
   "cell_type": "code",
   "execution_count": null,
   "metadata": {},
   "outputs": [],
   "source": [
    "df.to_pickle(\"../data/data+predictions.pkl\")"
   ]
  }
 ],
 "metadata": {
  "language_info": {
   "name": "python"
  }
 },
 "nbformat": 4,
 "nbformat_minor": 2
}
