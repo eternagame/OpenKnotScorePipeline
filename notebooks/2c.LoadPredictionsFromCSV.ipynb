{
 "cells": [
  {
   "cell_type": "code",
   "execution_count": null,
   "metadata": {},
   "outputs": [],
   "source": [
    "import pandas\n",
    "\n",
    "STRUCTURE_FILE = input(\n",
    "    \"Structure File: Filename of the CSV holding structure predictions in the data directory to load\"\n",
    ")"
   ]
  },
  {
   "cell_type": "code",
   "execution_count": null,
   "metadata": {},
   "outputs": [],
   "source": [
    "df = pandas.read_pickle(f\"../data/data_rdatOnly.pkl\")\n",
    "structs = pandas.read_csv(f'../data/{STRUCTURE_FILE}')\n",
    "\n",
    "df.index = df.index.astype(str).astype(int)\n",
    "merged = df.merge(structs, on=['id', 'sequence'])\n",
    "\n",
    "merged.to_pickle(\"../data/data+predictions.pkl\")"
   ]
  }
 ],
 "metadata": {
  "kernelspec": {
   "display_name": "venv",
   "language": "python",
   "name": "python3"
  },
  "language_info": {
   "codemirror_mode": {
    "name": "ipython",
    "version": 3
   },
   "file_extension": ".py",
   "mimetype": "text/x-python",
   "name": "python",
   "nbconvert_exporter": "python",
   "pygments_lexer": "ipython3",
   "version": "3.12.1"
  }
 },
 "nbformat": 4,
 "nbformat_minor": 2
}
