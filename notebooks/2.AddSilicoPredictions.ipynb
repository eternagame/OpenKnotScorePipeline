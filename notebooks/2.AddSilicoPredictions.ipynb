{
 "cells": [
  {
   "cell_type": "markdown",
   "id": "5510613d",
   "metadata": {},
   "source": [
    "# Add computational predictions to data\n",
    "\n",
    "This notebook takes an input dataframe from step 1, adds in-silico predictions\n",
    "made by various modeling engines, and outputs to a dataframe for OKS scoring."
   ]
  },
  {
   "cell_type": "code",
   "execution_count": null,
   "id": "23f9d18d-2dfb-4202-96b5-e7c04eff5707",
   "metadata": {},
   "outputs": [],
   "source": [
    "import pandas as pd\n",
    "\n",
    "data = pd.read_pickle(\"../data/data_rdatOnly.pkl\")\n",
    "\n",
    "predictions = pd.read_csv('data/predictions/silico_predictions.csv', index_col=\"id\", dtype=str)\n",
    "predictions.drop(columns=[\"name\",\"title\",\"body\",\"sequence\"],inplace=True)"
   ]
  },
  {
   "cell_type": "code",
   "execution_count": null,
   "id": "df5355eb-2436-44a9-9ed8-80b9e280d70f",
   "metadata": {},
   "outputs": [],
   "source": [
    "data.index.astype(str)\n",
    "predictions.index.astype(str)\n",
    "merged = pd.merge(data,predictions,how=\"outer\",on='id')\n",
    "display(merged)"
   ]
  },
  {
   "cell_type": "code",
   "execution_count": 40,
   "id": "197cc78c-8121-4d52-a9ca-9921136621e5",
   "metadata": {},
   "outputs": [],
   "source": [
    "merged.to_pickle('../data/data+predictions.pkl')"
   ]
  }
 ],
 "metadata": {
  "kernelspec": {
   "display_name": "Python 3 (ipykernel)",
   "language": "python",
   "name": "python3"
  },
  "language_info": {
   "codemirror_mode": {
    "name": "ipython",
    "version": 3
   },
   "file_extension": ".py",
   "mimetype": "text/x-python",
   "name": "python",
   "nbconvert_exporter": "python",
   "pygments_lexer": "ipython3",
   "version": "3.12.0"
  }
 },
 "nbformat": 4,
 "nbformat_minor": 5
}
