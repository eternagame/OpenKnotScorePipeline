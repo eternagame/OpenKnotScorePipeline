{
 "cells": [
  {
   "cell_type": "markdown",
   "id": "f6e6cd2c",
   "metadata": {},
   "source": [
    "# Calculate OpenKnotScore\n",
    "\n",
    "This notebook takes an input dataframe of sequences with reactivity data and various folding algorithm predictions and generates OpenKnotScores for the sequence library."
   ]
  },
  {
   "cell_type": "code",
   "execution_count": null,
   "id": "2ad2c7ff",
   "metadata": {},
   "outputs": [],
   "source": [
    "import sys\n",
    "sys.path.append('..')\n",
    "\n",
    "import pandas as pd\n",
    "from tqdm import tqdm\n",
    "from openknotscore import scoring\n",
    "\n",
    "# Trick to display dataframes with scrollbars\n",
    "from IPython.display import display, HTML\n",
    "display(HTML(\"<style>.jp-OutputArea-output {display:flex}</style>\"))"
   ]
  },
  {
   "cell_type": "markdown",
   "id": "244dd617",
   "metadata": {},
   "source": [
    "## Load data, Initialize constants"
   ]
  },
  {
   "cell_type": "code",
   "execution_count": null,
   "id": "e3435c90-506a-4637-b914-4c5e3c20176c",
   "metadata": {},
   "outputs": [],
   "source": [
    "# Load data\n",
    "data = pd.read_pickle(\"../data/data+predictions.pkl\")\n",
    "\n",
    "# Remove any sequences without reactivity data\n",
    "data = data[data['reactivity'].notna()]\n",
    "\n",
    "# Grab the data frame column names that hold predictions for each model\n",
    "prediction_tags = list(filter(lambda label: label.endswith(\"_PRED\"), data.columns))\n",
    "\n",
    "# Whether to filter out singlet base pairs (stacks/helices which only contain one pair)\n",
    "FILTER_SINGLETS = False"
   ]
  },
  {
   "cell_type": "markdown",
   "id": "a4d8f5da",
   "metadata": {},
   "source": [
    "## Calculate Eterna Classic Score"
   ]
  },
  {
   "cell_type": "code",
   "execution_count": null,
   "id": "fea1765f",
   "metadata": {
    "scrolled": true
   },
   "outputs": [],
   "source": [
    "# The Eterna Classic score measures how well a structure prediction matches the reactivity data\n",
    "# We calculate the ECS for every model of every sequence in the library\n",
    "def getECSperRow(row):\n",
    "    # Apply the scoring function to each model prediction in the row\n",
    "    df = row[prediction_tags].apply(\n",
    "        scoring.calculateEternaClassicScore,\n",
    "        args=(row['reactivity'], row['score_start_idx'] - 1, row['score_end_idx'] - 1, filter_singlets=FILTER_SINGLETS)\n",
    "    )\n",
    "    df = df.add_suffix('_ECS')\n",
    "    return df\n",
    "\n",
    "# Initialize a progress bar; important when working with large sequence libraries\n",
    "tqdm.pandas(desc=\"Calculating Eterna Classic Score\")\n",
    "\n",
    "# Apply the scoring function to each row in the data frame\n",
    "ecs = data.progress_apply(getECSperRow,axis=1,result_type='expand')\n",
    "\n",
    "# Add the ECS score columns to the data \n",
    "output = pd.merge(data,ecs,how=\"left\",left_index=True,right_index=True)\n",
    "\n",
    "display(output)"
   ]
  },
  {
   "cell_type": "markdown",
   "id": "65e587c4",
   "metadata": {},
   "source": [
    "## Calculate Crossed Pair Quality Scores"
   ]
  },
  {
   "cell_type": "code",
   "execution_count": null,
   "id": "53a306fd",
   "metadata": {
    "scrolled": true
   },
   "outputs": [],
   "source": [
    "# The CPQ scores are a pair of metrics that calculate how well the reactivity data\n",
    "# supports the presence of crossed pairs in a predicted structure. The crossed pair\n",
    "# score is measured against the entire structure, while the crossed pair quality score\n",
    "# is measured against only the base pairs that are predicted to be in a crossed pair.\n",
    "def getCPQperRow(row):\n",
    "    # Apply the scoring function to each model prediction in the row\n",
    "    df = row[prediction_tags].apply(\n",
    "        scoring.calculateCrossedPairQualityScore,\n",
    "        args=(row['reactivity'], row['score_start_idx'] - 1, row['score_end_idx'] - 1, filter_singlets=FILTER_SINGLETS)                   \n",
    "    )\n",
    "    df = df.add_suffix('_CPQ')\n",
    "    return df\n",
    "\n",
    "# Initialize a progress bar; important when working with large sequence libraries\n",
    "tqdm.pandas(desc=\"Calculating Crossed Pair Quality Score\")\n",
    "\n",
    "# Apply the scoring function to each row in the data frame\n",
    "cpq = data.progress_apply(getCPQperRow,axis=1,result_type='expand')\n",
    "\n",
    "# Add the CPQ score columns to the data \n",
    "output = pd.merge(output,cpq,how=\"left\",left_index=True,right_index=True)\n",
    "\n",
    "display(output)"
   ]
  },
  {
   "cell_type": "code",
   "execution_count": null,
   "id": "64d0ae93-d146-42b2-9724-93d32dcf3749",
   "metadata": {
    "scrolled": true
   },
   "outputs": [],
   "source": [
    "# The OpenKnotScore is a metric that estimates how likely a sequence is to contain \n",
    "# a pseudoknot structure. The score is derived by averaging the Eterna Classic Score\n",
    "# (measure of structure match to reactivity data) and the Crossed Pair Quality Score\n",
    "# (measure of reactivity support for crossed pairs) across an ensemble of several\n",
    "# structure predictions from various predictive models.\n",
    "\n",
    "# Initialize a progress bar; important when working with large sequence libraries\n",
    "tqdm.pandas(desc=\"Calculating OpenKnotScore\")\n",
    "\n",
    "# Apply the scoring function to each row in the data frame\n",
    "oks = output.progress_apply(scoring.calculateOpenKnotScore,axis=1, args=(prediction_tags,)  )\n",
    "\n",
    "# Add the OKS score columns to the data\n",
    "complete = pd.merge(output,oks,how=\"left\",left_index=True,right_index=True)\n",
    "\n",
    "display(complete)"
   ]
  },
  {
   "cell_type": "markdown",
   "id": "afa2935e",
   "metadata": {},
   "source": [
    "## Save output data"
   ]
  },
  {
   "cell_type": "code",
   "execution_count": null,
   "id": "a70b8deb-459d-4003-a069-55a68f47cf7a",
   "metadata": {},
   "outputs": [],
   "source": [
    "complete.to_pickle('../data/data_processed.pkl')\n",
    "# complete.to_csv('../data/data_processed.csv')"
   ]
  }
 ],
 "metadata": {
  "kernelspec": {
   "display_name": "venv",
   "language": "python",
   "name": "python3"
  },
  "language_info": {
   "codemirror_mode": {
    "name": "ipython",
    "version": 3
   },
   "file_extension": ".py",
   "mimetype": "text/x-python",
   "name": "python",
   "nbconvert_exporter": "python",
   "pygments_lexer": "ipython3",
   "version": "3.12.6"
  }
 },
 "nbformat": 4,
 "nbformat_minor": 5
}
